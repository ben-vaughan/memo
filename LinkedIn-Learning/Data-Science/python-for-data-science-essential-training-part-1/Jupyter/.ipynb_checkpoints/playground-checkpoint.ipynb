{
 "cells": [
  {
   "cell_type": "code",
   "execution_count": 208,
   "metadata": {},
   "outputs": [],
   "source": [
    "import pandas as pd\n",
    "import numpy as np\n",
    "import random\n",
    "import time"
   ]
  },
  {
   "cell_type": "code",
   "execution_count": 222,
   "metadata": {},
   "outputs": [],
   "source": [
    "headers = {'ip_address', 'host_name', 'critical_asset', 'tier_level', 'os'}\n",
    "df = pd.DataFrame(columns=headers)"
   ]
  },
  {
   "cell_type": "code",
   "execution_count": 232,
   "metadata": {},
   "outputs": [],
   "source": [
    "def generateRandomIP():\n",
    "    ip_addr = '192.' + str(random.randint(0, 999)) + '.' + str(random.randint(0, 99)) + '.' + str(random.randint(0, 999))\n",
    "    return ip_addr"
   ]
  },
  {
   "cell_type": "code",
   "execution_count": 292,
   "metadata": {},
   "outputs": [],
   "source": [
    "def generateRandomHostname():\n",
    "    return 'devi00' + str(random.randint(0,9999))"
   ]
  },
  {
   "cell_type": "code",
   "execution_count": 286,
   "metadata": {},
   "outputs": [],
   "source": [
    "def generateCriticalAsset():\n",
    "    dec = random.randint(0,10)\n",
    "    if(dec > 9):\n",
    "        return 'Y'\n",
    "    return 'N'"
   ]
  },
  {
   "cell_type": "code",
   "execution_count": 287,
   "metadata": {},
   "outputs": [],
   "source": [
    "def generateRandomTierLevels():\n",
    "    return(random.randint(1,5))"
   ]
  },
  {
   "cell_type": "code",
   "execution_count": 288,
   "metadata": {},
   "outputs": [],
   "source": [
    "def generateRandomOS():\n",
    "    dec = random.randint(0,4)\n",
    "    \n",
    "    if(dec == 0):\n",
    "        return 'Windows XP'\n",
    "    elif(dec == 1):\n",
    "        return 'Windows 7'\n",
    "    elif(dec == 2):\n",
    "        return 'Windows 10'\n",
    "    elif(dec == 3):\n",
    "        return 'macOS'\n",
    "    elif(dec > 3):\n",
    "        return 'Linux'"
   ]
  },
  {
   "cell_type": "code",
   "execution_count": 296,
   "metadata": {},
   "outputs": [
    {
     "data": {
      "text/html": [
       "<div>\n",
       "<style scoped>\n",
       "    .dataframe tbody tr th:only-of-type {\n",
       "        vertical-align: middle;\n",
       "    }\n",
       "\n",
       "    .dataframe tbody tr th {\n",
       "        vertical-align: top;\n",
       "    }\n",
       "\n",
       "    .dataframe thead th {\n",
       "        text-align: right;\n",
       "    }\n",
       "</style>\n",
       "<table border=\"1\" class=\"dataframe\">\n",
       "  <thead>\n",
       "    <tr style=\"text-align: right;\">\n",
       "      <th></th>\n",
       "      <th>ip_address</th>\n",
       "      <th>host_name</th>\n",
       "      <th>critical_asset</th>\n",
       "      <th>tier_level</th>\n",
       "      <th>os</th>\n",
       "    </tr>\n",
       "  </thead>\n",
       "  <tbody>\n",
       "    <tr>\n",
       "      <td>0</td>\n",
       "      <td>192.538.54.197</td>\n",
       "      <td>devi003855</td>\n",
       "      <td>N</td>\n",
       "      <td>1</td>\n",
       "      <td>Windows XP</td>\n",
       "    </tr>\n",
       "    <tr>\n",
       "      <td>1</td>\n",
       "      <td>192.213.62.675</td>\n",
       "      <td>devi009897</td>\n",
       "      <td>N</td>\n",
       "      <td>3</td>\n",
       "      <td>Windows 7</td>\n",
       "    </tr>\n",
       "    <tr>\n",
       "      <td>2</td>\n",
       "      <td>192.315.92.452</td>\n",
       "      <td>devi004327</td>\n",
       "      <td>N</td>\n",
       "      <td>5</td>\n",
       "      <td>Linux</td>\n",
       "    </tr>\n",
       "    <tr>\n",
       "      <td>3</td>\n",
       "      <td>192.871.73.46</td>\n",
       "      <td>devi001575</td>\n",
       "      <td>N</td>\n",
       "      <td>1</td>\n",
       "      <td>Linux</td>\n",
       "    </tr>\n",
       "    <tr>\n",
       "      <td>4</td>\n",
       "      <td>192.131.36.785</td>\n",
       "      <td>devi001899</td>\n",
       "      <td>N</td>\n",
       "      <td>2</td>\n",
       "      <td>Windows 10</td>\n",
       "    </tr>\n",
       "    <tr>\n",
       "      <td>...</td>\n",
       "      <td>...</td>\n",
       "      <td>...</td>\n",
       "      <td>...</td>\n",
       "      <td>...</td>\n",
       "      <td>...</td>\n",
       "    </tr>\n",
       "    <tr>\n",
       "      <td>95</td>\n",
       "      <td>192.321.56.448</td>\n",
       "      <td>devi006437</td>\n",
       "      <td>N</td>\n",
       "      <td>5</td>\n",
       "      <td>Windows 10</td>\n",
       "    </tr>\n",
       "    <tr>\n",
       "      <td>96</td>\n",
       "      <td>192.601.15.733</td>\n",
       "      <td>devi001786</td>\n",
       "      <td>Y</td>\n",
       "      <td>3</td>\n",
       "      <td>Windows 7</td>\n",
       "    </tr>\n",
       "    <tr>\n",
       "      <td>97</td>\n",
       "      <td>192.250.50.160</td>\n",
       "      <td>devi009469</td>\n",
       "      <td>N</td>\n",
       "      <td>3</td>\n",
       "      <td>Linux</td>\n",
       "    </tr>\n",
       "    <tr>\n",
       "      <td>98</td>\n",
       "      <td>192.441.77.986</td>\n",
       "      <td>devi002133</td>\n",
       "      <td>N</td>\n",
       "      <td>1</td>\n",
       "      <td>Windows 7</td>\n",
       "    </tr>\n",
       "    <tr>\n",
       "      <td>99</td>\n",
       "      <td>192.718.83.716</td>\n",
       "      <td>devi002864</td>\n",
       "      <td>N</td>\n",
       "      <td>4</td>\n",
       "      <td>Windows XP</td>\n",
       "    </tr>\n",
       "  </tbody>\n",
       "</table>\n",
       "<p>100 rows × 5 columns</p>\n",
       "</div>"
      ],
      "text/plain": [
       "        ip_address   host_name critical_asset  tier_level          os\n",
       "0   192.538.54.197  devi003855              N           1  Windows XP\n",
       "1   192.213.62.675  devi009897              N           3   Windows 7\n",
       "2   192.315.92.452  devi004327              N           5       Linux\n",
       "3    192.871.73.46  devi001575              N           1       Linux\n",
       "4   192.131.36.785  devi001899              N           2  Windows 10\n",
       "..             ...         ...            ...         ...         ...\n",
       "95  192.321.56.448  devi006437              N           5  Windows 10\n",
       "96  192.601.15.733  devi001786              Y           3   Windows 7\n",
       "97  192.250.50.160  devi009469              N           3       Linux\n",
       "98  192.441.77.986  devi002133              N           1   Windows 7\n",
       "99  192.718.83.716  devi002864              N           4  Windows XP\n",
       "\n",
       "[100 rows x 5 columns]"
      ]
     },
     "execution_count": 296,
     "metadata": {},
     "output_type": "execute_result"
    }
   ],
   "source": [
    "randomIPs = []\n",
    "randomHostnames = []\n",
    "randomCriticalAssets = []\n",
    "randomTierLevels = []\n",
    "randomOS = []\n",
    "\n",
    "for i in range(100):\n",
    "    randomIPs.append(generateRandomIP())\n",
    "    randomHostnames.append(generateRandomHostname())\n",
    "    randomCriticalAssets.append(generateCriticalAsset())\n",
    "    randomTierLevels.append(generateRandomTierLevels())\n",
    "    randomOS.append(generateRandomOS())\n",
    " \n",
    "df = pd.DataFrame({'ip_address': randomIPs, 'host_name': randomHostnames, 'critical_asset': randomCriticalAssets, 'tier_level': randomTierLevels, 'os': randomOS})\n",
    "df"
   ]
  },
  {
   "cell_type": "code",
   "execution_count": null,
   "metadata": {},
   "outputs": [],
   "source": []
  }
 ],
 "metadata": {
  "kernelspec": {
   "display_name": "Python 3",
   "language": "python",
   "name": "python3"
  },
  "language_info": {
   "codemirror_mode": {
    "name": "ipython",
    "version": 3
   },
   "file_extension": ".py",
   "mimetype": "text/x-python",
   "name": "python",
   "nbconvert_exporter": "python",
   "pygments_lexer": "ipython3",
   "version": "3.7.4"
  }
 },
 "nbformat": 4,
 "nbformat_minor": 2
}
