{
 "cells": [
  {
   "cell_type": "code",
   "execution_count": 208,
   "metadata": {},
   "outputs": [],
   "source": [
    "import pandas as pd\n",
    "import numpy as np\n",
    "import random\n",
    "import time"
   ]
  },
  {
   "cell_type": "code",
   "execution_count": 222,
   "metadata": {},
   "outputs": [],
   "source": [
    "headers = {'ip_address', 'host_name', 'critical_asset', 'tier_level', 'os'}\n",
    "df = pd.DataFrame(columns=headers)"
   ]
  },
  {
   "cell_type": "code",
   "execution_count": 232,
   "metadata": {},
   "outputs": [],
   "source": [
    "def generateRandomIP():\n",
    "    ip_addr = '192.' + str(random.randint(0, 999)) + '.' + str(random.randint(0, 99)) + '.' + str(random.randint(0, 999))\n",
    "    return ip_addr"
   ]
  },
  {
   "cell_type": "code",
   "execution_count": 292,
   "metadata": {},
   "outputs": [],
   "source": [
    "def generateRandomHostname():\n",
    "    return 'devi00' + str(random.randint(0,9999))"
   ]
  },
  {
   "cell_type": "code",
   "execution_count": 286,
   "metadata": {},
   "outputs": [],
   "source": [
    "def generateCriticalAsset():\n",
    "    dec = random.randint(0,10)\n",
    "    if(dec > 9):\n",
    "        return 'Y'\n",
    "    return 'N'"
   ]
  },
  {
   "cell_type": "code",
   "execution_count": 287,
   "metadata": {},
   "outputs": [],
   "source": [
    "def generateRandomTierLevels():\n",
    "    return(random.randint(1,5))"
   ]
  },
  {
   "cell_type": "code",
   "execution_count": 288,
   "metadata": {},
   "outputs": [],
   "source": [
    "def generateRandomOS():\n",
    "    dec = random.randint(0,4)\n",
    "    \n",
    "    if(dec == 0):\n",
    "        return 'Windows XP'\n",
    "    elif(dec == 1):\n",
    "        return 'Windows 7'\n",
    "    elif(dec == 2):\n",
    "        return 'Windows 10'\n",
    "    elif(dec == 3):\n",
    "        return 'macOS'\n",
    "    elif(dec > 3):\n",
    "        return 'Linux'"
   ]
  },
  {
   "cell_type": "code",
   "execution_count": 304,
   "metadata": {},
   "outputs": [
    {
     "data": {
      "text/html": [
       "<div>\n",
       "<style scoped>\n",
       "    .dataframe tbody tr th:only-of-type {\n",
       "        vertical-align: middle;\n",
       "    }\n",
       "\n",
       "    .dataframe tbody tr th {\n",
       "        vertical-align: top;\n",
       "    }\n",
       "\n",
       "    .dataframe thead th {\n",
       "        text-align: right;\n",
       "    }\n",
       "</style>\n",
       "<table border=\"1\" class=\"dataframe\">\n",
       "  <thead>\n",
       "    <tr style=\"text-align: right;\">\n",
       "      <th></th>\n",
       "      <th>ip_address</th>\n",
       "      <th>host_name</th>\n",
       "      <th>critical_asset</th>\n",
       "      <th>tier_level</th>\n",
       "      <th>os</th>\n",
       "    </tr>\n",
       "  </thead>\n",
       "  <tbody>\n",
       "    <tr>\n",
       "      <td>0</td>\n",
       "      <td>192.667.4.139</td>\n",
       "      <td>devi009449</td>\n",
       "      <td>N</td>\n",
       "      <td>2</td>\n",
       "      <td>Windows 7</td>\n",
       "    </tr>\n",
       "    <tr>\n",
       "      <td>1</td>\n",
       "      <td>192.505.64.526</td>\n",
       "      <td>devi002853</td>\n",
       "      <td>N</td>\n",
       "      <td>4</td>\n",
       "      <td>Linux</td>\n",
       "    </tr>\n",
       "    <tr>\n",
       "      <td>2</td>\n",
       "      <td>192.110.84.804</td>\n",
       "      <td>devi006170</td>\n",
       "      <td>Y</td>\n",
       "      <td>2</td>\n",
       "      <td>Windows 10</td>\n",
       "    </tr>\n",
       "    <tr>\n",
       "      <td>3</td>\n",
       "      <td>192.823.93.164</td>\n",
       "      <td>devi003997</td>\n",
       "      <td>Y</td>\n",
       "      <td>1</td>\n",
       "      <td>Windows 7</td>\n",
       "    </tr>\n",
       "    <tr>\n",
       "      <td>4</td>\n",
       "      <td>192.312.38.789</td>\n",
       "      <td>devi001029</td>\n",
       "      <td>N</td>\n",
       "      <td>3</td>\n",
       "      <td>macOS</td>\n",
       "    </tr>\n",
       "    <tr>\n",
       "      <td>...</td>\n",
       "      <td>...</td>\n",
       "      <td>...</td>\n",
       "      <td>...</td>\n",
       "      <td>...</td>\n",
       "      <td>...</td>\n",
       "    </tr>\n",
       "    <tr>\n",
       "      <td>95</td>\n",
       "      <td>192.428.12.855</td>\n",
       "      <td>devi004983</td>\n",
       "      <td>N</td>\n",
       "      <td>5</td>\n",
       "      <td>Windows XP</td>\n",
       "    </tr>\n",
       "    <tr>\n",
       "      <td>96</td>\n",
       "      <td>192.953.99.445</td>\n",
       "      <td>devi002438</td>\n",
       "      <td>N</td>\n",
       "      <td>1</td>\n",
       "      <td>Windows XP</td>\n",
       "    </tr>\n",
       "    <tr>\n",
       "      <td>97</td>\n",
       "      <td>192.582.16.558</td>\n",
       "      <td>devi009778</td>\n",
       "      <td>N</td>\n",
       "      <td>2</td>\n",
       "      <td>macOS</td>\n",
       "    </tr>\n",
       "    <tr>\n",
       "      <td>98</td>\n",
       "      <td>192.465.11.401</td>\n",
       "      <td>devi001838</td>\n",
       "      <td>N</td>\n",
       "      <td>5</td>\n",
       "      <td>Windows XP</td>\n",
       "    </tr>\n",
       "    <tr>\n",
       "      <td>99</td>\n",
       "      <td>192.577.41.408</td>\n",
       "      <td>devi00631</td>\n",
       "      <td>N</td>\n",
       "      <td>5</td>\n",
       "      <td>Windows 7</td>\n",
       "    </tr>\n",
       "  </tbody>\n",
       "</table>\n",
       "<p>100 rows × 5 columns</p>\n",
       "</div>"
      ],
      "text/plain": [
       "        ip_address   host_name critical_asset  tier_level          os\n",
       "0    192.667.4.139  devi009449              N           2   Windows 7\n",
       "1   192.505.64.526  devi002853              N           4       Linux\n",
       "2   192.110.84.804  devi006170              Y           2  Windows 10\n",
       "3   192.823.93.164  devi003997              Y           1   Windows 7\n",
       "4   192.312.38.789  devi001029              N           3       macOS\n",
       "..             ...         ...            ...         ...         ...\n",
       "95  192.428.12.855  devi004983              N           5  Windows XP\n",
       "96  192.953.99.445  devi002438              N           1  Windows XP\n",
       "97  192.582.16.558  devi009778              N           2       macOS\n",
       "98  192.465.11.401  devi001838              N           5  Windows XP\n",
       "99  192.577.41.408   devi00631              N           5   Windows 7\n",
       "\n",
       "[100 rows x 5 columns]"
      ]
     },
     "execution_count": 304,
     "metadata": {},
     "output_type": "execute_result"
    }
   ],
   "source": [
    "randomIPs = []\n",
    "randomHostnames = []\n",
    "randomCriticalAssets = []\n",
    "randomTierLevels = []\n",
    "randomOS = []\n",
    "\n",
    "for i in range(100):\n",
    "    randomIPs.append(generateRandomIP())\n",
    "    randomHostnames.append(generateRandomHostname())\n",
    "    randomCriticalAssets.append(generateCriticalAsset())\n",
    "    randomTierLevels.append(generateRandomTierLevels())\n",
    "    randomOS.append(generateRandomOS())\n",
    " \n",
    "df = pd.DataFrame({'ip_address': randomIPs, 'host_name': randomHostnames, 'critical_asset': randomCriticalAssets, 'tier_level': randomTierLevels, 'os': randomOS})\n",
    "df"
   ]
  },
  {
   "cell_type": "code",
   "execution_count": null,
   "metadata": {},
   "outputs": [],
   "source": []
  }
 ],
 "metadata": {
  "kernelspec": {
   "display_name": "Python 3",
   "language": "python",
   "name": "python3"
  },
  "language_info": {
   "codemirror_mode": {
    "name": "ipython",
    "version": 3
   },
   "file_extension": ".py",
   "mimetype": "text/x-python",
   "name": "python",
   "nbconvert_exporter": "python",
   "pygments_lexer": "ipython3",
   "version": "3.7.4"
  }
 },
 "nbformat": 4,
 "nbformat_minor": 2
}
